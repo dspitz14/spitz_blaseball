{
 "cells": [
  {
   "cell_type": "code",
   "execution_count": 193,
   "metadata": {
    "collapsed": true
   },
   "outputs": [],
   "source": [
    "from blaseball_mike.models import Team, Game\n",
    "import pandas as pd\n",
    "import numpy as np"
   ]
  },
  {
   "cell_type": "code",
   "execution_count": 32,
   "metadata": {},
   "outputs": [],
   "source": [
    "teams_dict = Team.load_all()"
   ]
  },
  {
   "cell_type": "code",
   "execution_count": 172,
   "metadata": {
    "collapsed": true
   },
   "outputs": [],
   "source": [
    "team_dfs = []"
   ]
  },
  {
   "cell_type": "code",
   "execution_count": 173,
   "metadata": {},
   "outputs": [],
   "source": [
    "#get starting pitcher stars for every game\n",
    "for team, info in teams_dict.items():\n",
    "    team_name = [info.full_name]\n",
    "    \n",
    "    pitchers = [player.name for player in info.rotation] * 20 \n",
    "    stars = [player.pitching_stars for player in info.rotation] * 20\n",
    "    \n",
    "    team_df = pd.DataFrame({'pitcher': pitchers,\n",
    "                            'pitching_stars': stars,\n",
    "                            'team': team_name * 100,\n",
    "                            'day': [i for i in range(0,100)]}).iloc[1:] #offset for pitching rotation\n",
    "    \n",
    "    team_dfs.append(team_df)"
   ]
  },
  {
   "cell_type": "code",
   "execution_count": 176,
   "metadata": {},
   "outputs": [],
   "source": [
    "pitch_schedule = pd.concat(team_dfs)"
   ]
  },
  {
   "cell_type": "code",
   "execution_count": 207,
   "metadata": {
    "collapsed": true
   },
   "outputs": [],
   "source": [
    "lineup_dfs = []"
   ]
  },
  {
   "cell_type": "code",
   "execution_count": 208,
   "metadata": {},
   "outputs": [],
   "source": [
    "for team, info in teams_dict.items():\n",
    "    team_name = [info.full_name] * 9\n",
    "    \n",
    "    batters = [player.name for player in info.lineup]\n",
    "    stars = [player.batting_stars for player in info.lineup]\n",
    "    \n",
    "    team_df = pd.DataFrame({'batter': batters,\n",
    "                            'batting_stars': stars,\n",
    "                            'team': team_name})\n",
    "    \n",
    "    lineup_dfs.append(team_df)"
   ]
  },
  {
   "cell_type": "code",
   "execution_count": 212,
   "metadata": {},
   "outputs": [],
   "source": [
    "lineup_stars = pd.concat(lineup_dfs)\n",
    "\n",
    "mean_bat_stars = lineup_stars.groupby('team').agg('mean').reset_index()"
   ]
  },
  {
   "cell_type": "code",
   "execution_count": 170,
   "metadata": {
    "collapsed": true
   },
   "outputs": [],
   "source": [
    "def get_day_df(season, day):\n",
    "    game = Game.load_by_day(season, day)\n",
    "    day_df = pd.DataFrame({\n",
    "                'season':[item.season for item in game.values()],\n",
    "                'day':[item.day for item in game.values()],\n",
    "                'game_id': [key for key in game.keys()],\n",
    "                'home_team': [item.home_team.full_name for item in game.values()],\n",
    "                'away_team': [item.away_team.full_name for item in game.values()]\n",
    "                })\n",
    "    if day % 10 == 0:\n",
    "        print(day)\n",
    "    return day_df\n",
    "\n",
    "def get_regular_season_schedule(season):\n",
    "    return pd.concat([get_day_df(season, day) for day in range(1, 100)])"
   ]
  },
  {
   "cell_type": "code",
   "execution_count": 171,
   "metadata": {},
   "outputs": [
    {
     "name": "stdout",
     "output_type": "stream",
     "text": [
      "10\n",
      "20\n",
      "30\n",
      "40\n",
      "50\n",
      "60\n",
      "70\n",
      "80\n",
      "90\n"
     ]
    },
    {
     "data": {
      "text/html": [
       "<div>\n",
       "<style>\n",
       "    .dataframe thead tr:only-child th {\n",
       "        text-align: right;\n",
       "    }\n",
       "\n",
       "    .dataframe thead th {\n",
       "        text-align: left;\n",
       "    }\n",
       "\n",
       "    .dataframe tbody tr th {\n",
       "        vertical-align: top;\n",
       "    }\n",
       "</style>\n",
       "<table border=\"1\" class=\"dataframe\">\n",
       "  <thead>\n",
       "    <tr style=\"text-align: right;\">\n",
       "      <th></th>\n",
       "      <th>away_team</th>\n",
       "      <th>day</th>\n",
       "      <th>game_id</th>\n",
       "      <th>home_team</th>\n",
       "      <th>season</th>\n",
       "    </tr>\n",
       "  </thead>\n",
       "  <tbody>\n",
       "    <tr>\n",
       "      <th>0</th>\n",
       "      <td>Kansas City Breath Mints</td>\n",
       "      <td>1</td>\n",
       "      <td>1cb778b3-327c-4336-843f-da45de29e85b</td>\n",
       "      <td>Charleston Shoe Thieves</td>\n",
       "      <td>7</td>\n",
       "    </tr>\n",
       "    <tr>\n",
       "      <th>1</th>\n",
       "      <td>Dallas Steaks</td>\n",
       "      <td>1</td>\n",
       "      <td>aebbc183-1155-4b06-af15-c2ba28547f6c</td>\n",
       "      <td>Philly Pies</td>\n",
       "      <td>7</td>\n",
       "    </tr>\n",
       "    <tr>\n",
       "      <th>2</th>\n",
       "      <td>Mexico City Mild Wings</td>\n",
       "      <td>1</td>\n",
       "      <td>2a9af2d6-dba4-43ee-b9fc-1c4b98c67ca8</td>\n",
       "      <td>Yellowstone Magic</td>\n",
       "      <td>7</td>\n",
       "    </tr>\n",
       "    <tr>\n",
       "      <th>3</th>\n",
       "      <td>Baltimore Crabs</td>\n",
       "      <td>1</td>\n",
       "      <td>61aedcd9-4edf-4791-86c7-ffecfed7ed55</td>\n",
       "      <td>San Francisco Lovers</td>\n",
       "      <td>7</td>\n",
       "    </tr>\n",
       "    <tr>\n",
       "      <th>4</th>\n",
       "      <td>Boston Flowers</td>\n",
       "      <td>1</td>\n",
       "      <td>3b5c75ab-0787-47c4-a53c-8845d9d218f5</td>\n",
       "      <td>Chicago Firefighters</td>\n",
       "      <td>7</td>\n",
       "    </tr>\n",
       "  </tbody>\n",
       "</table>\n",
       "</div>"
      ],
      "text/plain": [
       "                  away_team  day                               game_id  \\\n",
       "0  Kansas City Breath Mints    1  1cb778b3-327c-4336-843f-da45de29e85b   \n",
       "1             Dallas Steaks    1  aebbc183-1155-4b06-af15-c2ba28547f6c   \n",
       "2    Mexico City Mild Wings    1  2a9af2d6-dba4-43ee-b9fc-1c4b98c67ca8   \n",
       "3           Baltimore Crabs    1  61aedcd9-4edf-4791-86c7-ffecfed7ed55   \n",
       "4            Boston Flowers    1  3b5c75ab-0787-47c4-a53c-8845d9d218f5   \n",
       "\n",
       "                 home_team  season  \n",
       "0  Charleston Shoe Thieves       7  \n",
       "1              Philly Pies       7  \n",
       "2        Yellowstone Magic       7  \n",
       "3     San Francisco Lovers       7  \n",
       "4     Chicago Firefighters       7  "
      ]
     },
     "execution_count": 171,
     "metadata": {},
     "output_type": "execute_result"
    }
   ],
   "source": [
    "season_df = get_regular_season_schedule(7)"
   ]
  },
  {
   "cell_type": "code",
   "execution_count": 200,
   "metadata": {},
   "outputs": [
    {
     "data": {
      "text/plain": [
       "(1980, 8)"
      ]
     },
     "execution_count": 200,
     "metadata": {},
     "output_type": "execute_result"
    }
   ],
   "source": [
    "pitch_sched_opp = (pitch_schedule.merge(season_df[['day', 'away_team', 'home_team']],\n",
    "                                       left_on = ['day', 'team'],\n",
    "                                       right_on = ['day', 'away_team'],\n",
    "                                       how = 'left')\n",
    "                                .merge(season_df[['day', 'away_team', 'home_team']],\n",
    "                                       left_on = ['day', 'team'],\n",
    "                                       right_on = ['day', 'home_team'],\n",
    "                                       how = 'left'))                                    "
   ]
  },
  {
   "cell_type": "code",
   "execution_count": 202,
   "metadata": {
    "collapsed": true
   },
   "outputs": [],
   "source": [
    "pitch_sched_opp['opp_team'] = np.where(pitch_sched_opp['home_team_x'].isnull()\n",
    "                                       ,pitch_sched_opp['away_team_y']\n",
    "                                       ,pitch_sched_opp['home_team_x'])"
   ]
  },
  {
   "cell_type": "code",
   "execution_count": 204,
   "metadata": {},
   "outputs": [],
   "source": [
    "pitch_sched_opp = pitch_sched_opp[['day', 'pitcher', 'pitching_stars', 'team', 'opp_team']]"
   ]
  },
  {
   "cell_type": "code",
   "execution_count": 222,
   "metadata": {},
   "outputs": [
    {
     "data": {
      "text/html": [
       "<div>\n",
       "<style>\n",
       "    .dataframe thead tr:only-child th {\n",
       "        text-align: right;\n",
       "    }\n",
       "\n",
       "    .dataframe thead th {\n",
       "        text-align: left;\n",
       "    }\n",
       "\n",
       "    .dataframe tbody tr th {\n",
       "        vertical-align: top;\n",
       "    }\n",
       "</style>\n",
       "<table border=\"1\" class=\"dataframe\">\n",
       "  <thead>\n",
       "    <tr style=\"text-align: right;\">\n",
       "      <th></th>\n",
       "      <th>day</th>\n",
       "      <th>pitcher</th>\n",
       "      <th>pitching_stars</th>\n",
       "      <th>team</th>\n",
       "      <th>opp_team</th>\n",
       "      <th>batting_stars</th>\n",
       "    </tr>\n",
       "  </thead>\n",
       "  <tbody>\n",
       "    <tr>\n",
       "      <th>0</th>\n",
       "      <td>1</td>\n",
       "      <td>Stephanie Winters</td>\n",
       "      <td>1.5</td>\n",
       "      <td>Mexico City Mild Wings</td>\n",
       "      <td>Yellowstone Magic</td>\n",
       "      <td>2.111111</td>\n",
       "    </tr>\n",
       "    <tr>\n",
       "      <th>1</th>\n",
       "      <td>2</td>\n",
       "      <td>Rafael Davids</td>\n",
       "      <td>3.0</td>\n",
       "      <td>Mexico City Mild Wings</td>\n",
       "      <td>Yellowstone Magic</td>\n",
       "      <td>2.111111</td>\n",
       "    </tr>\n",
       "    <tr>\n",
       "      <th>2</th>\n",
       "      <td>3</td>\n",
       "      <td>Burke Gonzales</td>\n",
       "      <td>3.5</td>\n",
       "      <td>Mexico City Mild Wings</td>\n",
       "      <td>Yellowstone Magic</td>\n",
       "      <td>2.111111</td>\n",
       "    </tr>\n",
       "    <tr>\n",
       "      <th>3</th>\n",
       "      <td>4</td>\n",
       "      <td>Silvia Rugrat</td>\n",
       "      <td>3.0</td>\n",
       "      <td>Mexico City Mild Wings</td>\n",
       "      <td>Philly Pies</td>\n",
       "      <td>2.111111</td>\n",
       "    </tr>\n",
       "    <tr>\n",
       "      <th>4</th>\n",
       "      <td>5</td>\n",
       "      <td>Kennedy Rodgers</td>\n",
       "      <td>1.5</td>\n",
       "      <td>Mexico City Mild Wings</td>\n",
       "      <td>Philly Pies</td>\n",
       "      <td>2.111111</td>\n",
       "    </tr>\n",
       "  </tbody>\n",
       "</table>\n",
       "</div>"
      ],
      "text/plain": [
       "   day            pitcher  pitching_stars                    team  \\\n",
       "0    1  Stephanie Winters             1.5  Mexico City Mild Wings   \n",
       "1    2      Rafael Davids             3.0  Mexico City Mild Wings   \n",
       "2    3     Burke Gonzales             3.5  Mexico City Mild Wings   \n",
       "3    4      Silvia Rugrat             3.0  Mexico City Mild Wings   \n",
       "4    5    Kennedy Rodgers             1.5  Mexico City Mild Wings   \n",
       "\n",
       "            opp_team  batting_stars  \n",
       "0  Yellowstone Magic       2.111111  \n",
       "1  Yellowstone Magic       2.111111  \n",
       "2  Yellowstone Magic       2.111111  \n",
       "3        Philly Pies       2.111111  \n",
       "4        Philly Pies       2.111111  "
      ]
     },
     "execution_count": 222,
     "metadata": {},
     "output_type": "execute_result"
    }
   ],
   "source": [
    "matchup_df = pitch_sched_opp.merge(mean_bat_stars,\n",
    "                                   left_on = 'team',\n",
    "                                   right_on = 'team',\n",
    "                                   how = 'left')"
   ]
  },
  {
   "cell_type": "code",
   "execution_count": 223,
   "metadata": {
    "collapsed": true
   },
   "outputs": [],
   "source": [
    "matchup_df['diff'] = matchup_df['pitching_stars'] - matchup_df['batting_stars']"
   ]
  },
  {
   "cell_type": "code",
   "execution_count": 226,
   "metadata": {},
   "outputs": [],
   "source": [
    "matchup_df = matchup_df.sort_values(by = ['day', 'diff'], ascending = [True, False])\n",
    "\n",
    "final_rotation = matchup_df.drop_duplicates('day')"
   ]
  },
  {
   "cell_type": "code",
   "execution_count": 230,
   "metadata": {},
   "outputs": [
    {
     "data": {
      "text/plain": [
       "Qais Dogwalker        20\n",
       "Elvis Figueroa        20\n",
       "Axel Trololol         20\n",
       "Winnie Hess           20\n",
       "PolkaDot Patterson    19\n",
       "Name: pitcher, dtype: int64"
      ]
     },
     "execution_count": 230,
     "metadata": {},
     "output_type": "execute_result"
    }
   ],
   "source": [
    "final_rotation['pitcher'].value_counts()"
   ]
  },
  {
   "cell_type": "code",
   "execution_count": 233,
   "metadata": {
    "collapsed": true
   },
   "outputs": [],
   "source": [
    "final_rotation.to_csv('season_7_rotation.csv')"
   ]
  },
  {
   "cell_type": "code",
   "execution_count": null,
   "metadata": {
    "collapsed": true
   },
   "outputs": [],
   "source": []
  }
 ],
 "metadata": {
  "kernelspec": {
   "display_name": "Python 3",
   "language": "python",
   "name": "python3"
  },
  "language_info": {
   "codemirror_mode": {
    "name": "ipython",
    "version": 3
   },
   "file_extension": ".py",
   "mimetype": "text/x-python",
   "name": "python",
   "nbconvert_exporter": "python",
   "pygments_lexer": "ipython3",
   "version": "3.6.8"
  }
 },
 "nbformat": 4,
 "nbformat_minor": 2
}
